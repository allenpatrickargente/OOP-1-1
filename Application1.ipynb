{
  "nbformat": 4,
  "nbformat_minor": 0,
  "metadata": {
    "colab": {
      "name": "Application1.ipynb",
      "provenance": [],
      "authorship_tag": "ABX9TyN5nF379cJ5AhyCTeFa49Y1",
      "include_colab_link": true
    },
    "kernelspec": {
      "name": "python3",
      "display_name": "Python 3"
    },
    "language_info": {
      "name": "python"
    }
  },
  "cells": [
    {
      "cell_type": "markdown",
      "metadata": {
        "id": "view-in-github",
        "colab_type": "text"
      },
      "source": [
        "<a href=\"https://colab.research.google.com/github/allenpatrickargente/OOP-1-1/blob/main/Application1.ipynb\" target=\"_parent\"><img src=\"https://colab.research.google.com/assets/colab-badge.svg\" alt=\"Open In Colab\"/></a>"
      ]
    },
    {
      "cell_type": "markdown",
      "source": [
        "Application 1\n",
        "\n",
        "1.Create a Python program that displays the name of the three students(Student 1,Student 2, and Student 3) and their term grades\n",
        "\n",
        "2.Create a Class name Person and attributes -std1,std2,std2,pre,mid,fin\n",
        "\n",
        "3.Compute the average of each term grade using Grade() method\n",
        "\n",
        "4.infomration about students grades must be hidden from others"
      ],
      "metadata": {
        "id": "S7jBqzE3WXP0"
      }
    },
    {
      "cell_type": "code",
      "source": [
        "class Person:\n",
        "  def __init__(self,pre,mid,fin):\n",
        "    self.pre=pre\n",
        "    self.mid=mid\n",
        "    self.fin=fin\n",
        "  def grades(self):\n",
        "    print(self.pre,self.mid,self.fin)\n",
        "\n",
        "  \n",
        "person = Student(\"pre grades\",\"mid grade\",\"fin grade\")\n",
        "person.grades()\n",
        "\n",
        "class Student1(Person):\n",
        "  pass\n",
        "person = Student(99,95,98)\n",
        "person.grades()\n",
        "person = Student((94+95+98)/3,\"terms\",\"average\")\n",
        "person.grades()\n",
        "\n",
        "class student2(Student1):\n",
        " pass\n",
        "\n",
        "person = Student(94,92,95)\n",
        "person.grades()\n",
        "person = Student((94+92+95)/3,\"terms\",\"average\")\n",
        "person.grades()\n",
        "\n",
        "class Student2(Student1):\n",
        "  pass\n",
        "\n",
        "person = Student(75,85,90)\n",
        "person.grades()\n",
        "person = Student((75+85+90)/3,\"terms\",\"average\")\n",
        "person.grades()"
      ],
      "metadata": {
        "colab": {
          "base_uri": "https://localhost:8080/"
        },
        "id": "MFRd-ta1XDqP",
        "outputId": "1b8b88b4-f74b-4b75-8055-a3157e307251"
      },
      "execution_count": 73,
      "outputs": [
        {
          "output_type": "stream",
          "name": "stdout",
          "text": [
            "pre grades mid grade fin grade\n",
            "99 95 98\n",
            "95.66666666666667 terms average\n",
            "94 92 95\n",
            "93.66666666666667 terms average\n",
            "75 85 90\n",
            "83.33333333333333 terms average\n"
          ]
        }
      ]
    }
  ]
}
{
  "nbformat": 4,
  "nbformat_minor": 0,
  "metadata": {
    "colab": {
      "name": "Classes and Objects.ipynb",
      "provenance": [],
      "authorship_tag": "ABX9TyPT3HBN0dAMNhkGFu84b1jD",
      "include_colab_link": true
    },
    "kernelspec": {
      "name": "python3",
      "display_name": "Python 3"
    },
    "language_info": {
      "name": "python"
    }
  },
  "cells": [
    {
      "cell_type": "markdown",
      "metadata": {
        "id": "view-in-github",
        "colab_type": "text"
      },
      "source": [
        "<a href=\"https://colab.research.google.com/github/allenpatrickargente/OOP-1-1/blob/main/Classes_and_Objects.ipynb\" target=\"_parent\"><img src=\"https://colab.research.google.com/assets/colab-badge.svg\" alt=\"Open In Colab\"/></a>"
      ]
    },
    {
      "cell_type": "markdown",
      "source": [
        "Application 2 - Write a python program that displays the fullname of a student, student number, age, course, and school. Create a class  name OOP_1_1 and create info() method to display the information of a student with fullname, student_no, age, course, school as attributes"
      ],
      "metadata": {
        "id": "c_ElK6gj1qz3"
      }
    },
    {
      "cell_type": "code",
      "execution_count": 63,
      "metadata": {
        "colab": {
          "base_uri": "https://localhost:8080/"
        },
        "id": "qk6vJLEj0-l1",
        "outputId": "fd034fb9-4fc6-4d89-c461-9bc15e3ff8d8"
      },
      "outputs": [
        {
          "output_type": "stream",
          "name": "stdout",
          "text": [
            "Allen Patrick Argente 202101513 18 BSCpE CVSU\n"
          ]
        }
      ],
      "source": [
        "class OOP_1_1:\n",
        "  def __init__(self,fullname, student_no,age,course,school):\n",
        "    self.fullname=fullname\n",
        "    self.student_no=student_no\n",
        "    self.age=age\n",
        "    self.course=course\n",
        "    self.school=school\n",
        "  \n",
        "  def info(self):\n",
        "    print(self.fullname,self.student_no,self.age,self.course,self.school)\n",
        "\n",
        "student = OOP_1_1(\"Allen Patrick Argente\",202101513,18,\"BSCpE\",\"CVSU\")\n",
        "student.info()"
      ]
    },
    {
      "cell_type": "markdown",
      "source": [
        "Application 3-Define an Area() method of class Circle that calculates the circle Area. Define a perimeter() method of the class which allows you to calculate the perimeter of the circle"
      ],
      "metadata": {
        "id": "liNH463H7Jwv"
      }
    },
    {
      "cell_type": "code",
      "source": [
        "class Circle:\n",
        "  def __init__(self,π,r):\n",
        "    self.π=π\n",
        "    self.r=r\n",
        "\n",
        "  def Area(self):\n",
        "    print(self.π*self.r*self.r)\n",
        "\n",
        "cir=Circle(3.14,5)\n",
        "cir.Area()"
      ],
      "metadata": {
        "colab": {
          "base_uri": "https://localhost:8080/"
        },
        "id": "1Cn6WqhT6ozs",
        "outputId": "6d190b82-b657-433b-ab82-d5cb50a94c5d"
      },
      "execution_count": 31,
      "outputs": [
        {
          "output_type": "stream",
          "name": "stdout",
          "text": [
            "78.5\n"
          ]
        }
      ]
    },
    {
      "cell_type": "code",
      "source": [
        "class Circle:\n",
        "  def __init__(self,π,r):\n",
        "    self.π=π\n",
        "    self.r=r\n",
        "\n",
        "  def Perimeter(self):\n",
        "    print(2*self.π*self.r)\n",
        "\n",
        "cir=Circle(3.14,95)\n",
        "cir.Perimeter()"
      ],
      "metadata": {
        "colab": {
          "base_uri": "https://localhost:8080/"
        },
        "id": "MFpkpAW3_IU9",
        "outputId": "601cf445-33af-42c3-d938-9781f2a4d287"
      },
      "execution_count": 64,
      "outputs": [
        {
          "output_type": "stream",
          "name": "stdout",
          "text": [
            "596.6\n"
          ]
        }
      ]
    }
  ]
}
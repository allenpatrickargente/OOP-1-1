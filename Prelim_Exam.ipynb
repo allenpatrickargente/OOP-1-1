{
  "nbformat": 4,
  "nbformat_minor": 0,
  "metadata": {
    "colab": {
      "name": "Prelim Exam.ipynb",
      "provenance": [],
      "collapsed_sections": [],
      "authorship_tag": "ABX9TyMrIpawgfgYwps3oTmqxUAv",
      "include_colab_link": true
    },
    "kernelspec": {
      "name": "python3",
      "display_name": "Python 3"
    },
    "language_info": {
      "name": "python"
    }
  },
  "cells": [
    {
      "cell_type": "markdown",
      "metadata": {
        "id": "view-in-github",
        "colab_type": "text"
      },
      "source": [
        "<a href=\"https://colab.research.google.com/github/allenpatrickargente/OOP-1-1/blob/main/Prelim_Exam.ipynb\" target=\"_parent\"><img src=\"https://colab.research.google.com/assets/colab-badge.svg\" alt=\"Open In Colab\"/></a>"
      ]
    },
    {
      "cell_type": "markdown",
      "source": [
        "1. Write a Python to display your full name, student number, age, and course\n",
        "2. Create a class named Student with attributes: Name, Student_No, Age, School, and Course\n",
        "3. Create an object name Myself and assign an instance for each attribute.\n",
        "4. Create a method Info() using an instantiation of a class.\n",
        "Insert your GitHub link \"Prelim Exam\" from your repository named \"OOP 1-1\"\n"
      ],
      "metadata": {
        "id": "dfngJ4HpJoCd"
      }
    },
    {
      "cell_type": "code",
      "source": [
        "class Student:\n",
        "  def __init__(self,fullname, student_no,age,school,course):\n",
        "    self.fullname=fullname\n",
        "    self.student_no=student_no\n",
        "    self.age=age\n",
        "    self.course=course\n",
        "    self.school=school\n",
        "  \n",
        "  def info(self):\n",
        "    print(self.fullname,self.student_no,self.age,self.course,self.school)\n",
        "\n",
        "myself = Student(\"Allen Patrick Argente\",202101513,18,\"CVSU\",\"BSCpE\")\n",
        "student.info()"
      ],
      "metadata": {
        "colab": {
          "base_uri": "https://localhost:8080/"
        },
        "id": "hfGY2uevHZ4f",
        "outputId": "33d8c6c8-0d3c-4293-9b08-1141ba2628d5"
      },
      "execution_count": 48,
      "outputs": [
        {
          "output_type": "stream",
          "name": "stdout",
          "text": [
            "Allen Patrick Argente 202101513 18 BSCpE CVSU\n"
          ]
        }
      ]
    }
  ]
}
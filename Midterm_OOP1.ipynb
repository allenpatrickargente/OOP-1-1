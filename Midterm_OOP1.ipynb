{
  "nbformat": 4,
  "nbformat_minor": 0,
  "metadata": {
    "colab": {
      "name": "Midterm OOP.ipynb",
      "provenance": [],
      "authorship_tag": "ABX9TyNLlxulByu0ejaZYPAsRomd",
      "include_colab_link": true
    },
    "kernelspec": {
      "name": "python3",
      "display_name": "Python 3"
    },
    "language_info": {
      "name": "python"
    }
  },
  "cells": [
    {
      "cell_type": "markdown",
      "metadata": {
        "id": "view-in-github",
        "colab_type": "text"
      },
      "source": [
        "<a href=\"https://colab.research.google.com/github/allenpatrickargente/OOP-1-1/blob/main/Midterm_OOP1.ipynb\" target=\"_parent\"><img src=\"https://colab.research.google.com/assets/colab-badge.svg\" alt=\"Open In Colab\"/></a>"
      ]
    },
    {
      "cell_type": "code",
      "execution_count": 1,
      "metadata": {
        "colab": {
          "base_uri": "https://localhost:8080/"
        },
        "id": "Q5qFZ6KyrVtV",
        "outputId": "0d7a0064-d115-4c8a-de0e-5e3657f06a72"
      },
      "outputs": [
        {
          "output_type": "stream",
          "name": "stdout",
          "text": [
            "Enter the temperature in Celsius: 100\n",
            "373.15 Kelvin\n",
            "212.0 Fahrenheit\n",
            "Enter temperature in fahrenheit: 100\n",
            "100.00 Fahrenheit is: 37.78 Celsius\n",
            "Enter temperature in kelvin: 100\n",
            "The temperature in Celsius: -173.15\n"
          ]
        }
      ],
      "source": [
        "def main():\n",
        " class TemperatureConversion:\n",
        "  def __init__(self, temp=1):\n",
        "   self._temp = temp\n",
        " class CelsiusToFahrenheit(TemperatureConversion):\n",
        "  def conversion(self):\n",
        "   return (self._temp * 9) / 5 + 32\n",
        " class CelsiusToKelvin(TemperatureConversion):\n",
        "  def conversion(self):\n",
        "   return self._temp + 273.15\n",
        " class FahrenheitTocelsius(TemperatureConversion):\n",
        "  def conversion(self):\n",
        "   return (self._temp * 9/5)+23\n",
        " class kelvinToCelsius(TemperatureConversion):\n",
        "  def conversion(slef):\n",
        "   return (self._temp - 273.15)\n",
        " \n",
        " \n",
        " \n",
        " tempInCelsius = float(input(\"Enter the temperature in Celsius: \"))\n",
        " convert = CelsiusToKelvin(tempInCelsius)\n",
        " print(str(convert.conversion()) + \" Kelvin\")\n",
        " convert = CelsiusToFahrenheit(tempInCelsius)\n",
        " print(str(convert.conversion()) + \" Fahrenheit\")\n",
        " fahrenheit = float(input(\"Enter temperature in fahrenheit: \"))\n",
        " celsius = (fahrenheit - 32) * 5/9\n",
        " print('%.2f Fahrenheit is: %0.2f Celsius' %(fahrenheit, celsius))\n",
        " kelvin = float(input(\"Enter temperature in kelvin: \"))\n",
        " kelvin = (kelvin - 273.15)\n",
        " print(\"The temperature in Celsius:\",round(kelvin,2))\n",
        " \n",
        "main()\n",
        " \n"
      ]
    }
  ]
}
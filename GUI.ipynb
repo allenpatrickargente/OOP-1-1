{
  "nbformat": 4,
  "nbformat_minor": 0,
  "metadata": {
    "colab": {
      "name": "GUI.ipynb",
      "provenance": [],
      "authorship_tag": "ABX9TyPXZEp/IwxlEPZBrKKJz7WI",
      "include_colab_link": true
    },
    "kernelspec": {
      "name": "python3",
      "display_name": "Python 3"
    },
    "language_info": {
      "name": "python"
    }
  },
  "cells": [
    {
      "cell_type": "markdown",
      "metadata": {
        "id": "view-in-github",
        "colab_type": "text"
      },
      "source": [
        "<a href=\"https://colab.research.google.com/github/allenpatrickargente/OOP-1-1/blob/main/GUI.ipynb\" target=\"_parent\"><img src=\"https://colab.research.google.com/assets/colab-badge.svg\" alt=\"Open In Colab\"/></a>"
      ]
    },
    {
      "cell_type": "markdown",
      "source": [
        "Stduent's Grade in OOP Subject"
      ],
      "metadata": {
        "id": "9KWACruFvjWk"
      }
    },
    {
      "cell_type": "code",
      "execution_count": 2,
      "metadata": {
        "colab": {
          "base_uri": "https://localhost:8080/"
        },
        "id": "dGmam8rxvSly",
        "outputId": "0cf01b79-a9b6-4cb7-fc82-2dd1e0de3e3e"
      },
      "outputs": [
        {
          "output_type": "stream",
          "name": "stdout",
          "text": [
            "My prelim grade is90\n",
            "My midterm grade is95\n",
            "My final grade is99\n",
            "My semestral grade is94.67\n",
            "My Birthdate is2003-07-04\n"
          ]
        }
      ],
      "source": [
        "#@title Student's Grade in OOP\n",
        "student_name=\"Allen Patrick Argente\"#@param{type:\"string\"}\n",
        "prelim=90#@param{type:\"string\"}\n",
        "midterm=95#@param{type:\"string\"}\n",
        "final=99#@param{type:\"string\"}\n",
        "semestral_grade=round((prelim+midterm+final)/3,2)\n",
        "\n",
        "print(\"My prelim grade is\" +str(prelim))\n",
        "print(\"My midterm grade is\" +str(midterm))\n",
        "print(\"My final grade is\" +str(final))\n",
        "print(\"My semestral grade is\" +str(semestral_grade))\n",
        "\n",
        "Gender=\"Male\"#@param{\"male\",\"female\"}\n",
        "BirthDate='2003-07-04'#@param{type:\"date\"}\n",
        "\n",
        "print(\"My Birthdate is\" +BirthDate)"
      ]
    }
  ]
}
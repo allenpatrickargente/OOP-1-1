{
  "nbformat": 4,
  "nbformat_minor": 0,
  "metadata": {
    "colab": {
      "name": "Classes and Objects.ipynb",
      "provenance": [],
      "authorship_tag": "ABX9TyNkxaPgsZl74XOd5/3YUAdJ",
      "include_colab_link": true
    },
    "kernelspec": {
      "name": "python3",
      "display_name": "Python 3"
    },
    "language_info": {
      "name": "python"
    }
  },
  "cells": [
    {
      "cell_type": "markdown",
      "metadata": {
        "id": "view-in-github",
        "colab_type": "text"
      },
      "source": [
        "<a href=\"https://colab.research.google.com/github/allenpatrickargente/OOP-1-1/blob/main/Classes_and_Objects.ipynb\" target=\"_parent\"><img src=\"https://colab.research.google.com/assets/colab-badge.svg\" alt=\"Open In Colab\"/></a>"
      ]
    },
    {
      "cell_type": "markdown",
      "source": [
        "Application 2 - Write a python program that displays the fullname of a student, student number, age, course, and school. Create a class  name OOP_1_1 and create info() method to display the information of a student with fullname, student_no, age, course, school as attributes"
      ],
      "metadata": {
        "id": "c_ElK6gj1qz3"
      }
    },
    {
      "cell_type": "code",
      "execution_count": 63,
      "metadata": {
        "colab": {
          "base_uri": "https://localhost:8080/"
        },
        "id": "qk6vJLEj0-l1",
        "outputId": "fd034fb9-4fc6-4d89-c461-9bc15e3ff8d8"
      },
      "outputs": [
        {
          "output_type": "stream",
          "name": "stdout",
          "text": [
            "Allen Patrick Argente 202101513 18 BSCpE CVSU\n"
          ]
        }
      ],
      "source": [
        "class OOP_1_1:\n",
        "  def __init__(self,fullname, student_no,age,course,school):\n",
        "    self.fullname=fullname\n",
        "    self.student_no=student_no\n",
        "    self.age=age\n",
        "    self.course=course\n",
        "    self.school=school\n",
        "  \n",
        "  def info(self):\n",
        "    print(self.fullname,self.student_no,self.age,self.course,self.school)\n",
        "\n",
        "student = OOP_1_1(\"Allen Patrick Argente\",202101513,18,\"BSCpE\",\"CVSU\")\n",
        "student.info()"
      ]
    },
    {
      "cell_type": "markdown",
      "source": [
        "Application 3-Define an Area() method of class Circle that calculates the circle Area. Define a perimeter() method of the class which allows you to calculate the perimeter of the circle"
      ],
      "metadata": {
        "id": "liNH463H7Jwv"
      }
    },
    {
      "cell_type": "code",
      "source": [
        "radius=int(input(\"Radius\"))\n",
        "class Circle:\n",
        "  def __init__(self,π,radius):\n",
        "    self.π=π\n",
        "    self.radius=radius\n",
        "\n",
        "  def Area(self):\n",
        "    print(self.π*self.radius*self.radius)\n",
        "\n",
        "cir=Circle(3.14159,radius)\n",
        "cir.Area()"
      ],
      "metadata": {
        "colab": {
          "base_uri": "https://localhost:8080/"
        },
        "id": "1Cn6WqhT6ozs",
        "outputId": "c6719125-1fcc-4d89-d21d-7b143411a3b1"
      },
      "execution_count": 72,
      "outputs": [
        {
          "output_type": "stream",
          "name": "stdout",
          "text": [
            "Radius9\n",
            "254.46879\n"
          ]
        }
      ]
    },
    {
      "cell_type": "code",
      "source": [
        "radius=int(input(\"Radius\"))\n",
        "class Circle:\n",
        "  def __init__(self,π,radius):\n",
        "    self.π=π\n",
        "    self.radius=radius\n",
        "\n",
        "  def Perimeter(self):\n",
        "    print(2*self.π*self.radius)\n",
        "\n",
        "cir=Circle(3.14159,radius)\n",
        "cir.Perimeter()"
      ],
      "metadata": {
        "colab": {
          "base_uri": "https://localhost:8080/"
        },
        "id": "MFpkpAW3_IU9",
        "outputId": "06564087-3647-4d00-cf95-b27b76fb2ee0"
      },
      "execution_count": 68,
      "outputs": [
        {
          "output_type": "stream",
          "name": "stdout",
          "text": [
            "Radius95\n",
            "596.6\n"
          ]
        }
      ]
    }
  ]
}